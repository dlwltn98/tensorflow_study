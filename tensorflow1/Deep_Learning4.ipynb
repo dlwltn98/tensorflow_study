{
  "nbformat": 4,
  "nbformat_minor": 0,
  "metadata": {
    "colab": {
      "name": "Deep Learning4.ipynb",
      "provenance": [],
      "authorship_tag": "ABX9TyPWNHeg2GpCTpSXkTWGJx0t",
      "include_colab_link": true
    },
    "kernelspec": {
      "name": "python3",
      "display_name": "Python 3"
    }
  },
  "cells": [
    {
      "cell_type": "markdown",
      "metadata": {
        "id": "view-in-github",
        "colab_type": "text"
      },
      "source": [
        "<a href=\"https://colab.research.google.com/github/dlwltn98/tensorflow_study/blob/master/tensorflow1/Deep_Learning4.ipynb\" target=\"_parent\"><img src=\"https://colab.research.google.com/assets/colab-badge.svg\" alt=\"Open In Colab\"/></a>"
      ]
    },
    {
      "cell_type": "markdown",
      "metadata": {
        "id": "scnzc37K91KY"
      },
      "source": [
        "# 4. 신경망 완성 : 히든 레이어\r\n",
        "\r\n",
        "\r\n",
        "* 보스턴 : https://raw.githubusercontent.com/blackdew/tensorflow1/master/csv/boston.csv\r\n",
        "* 아이리스 : https://raw.githubusercontent.com/blackdew/tensorflow1/master/csv/iris.csv"
      ]
    },
    {
      "cell_type": "markdown",
      "metadata": {
        "id": "F3YkEx2896k9"
      },
      "source": [
        "**Boston**"
      ]
    },
    {
      "cell_type": "code",
      "metadata": {
        "id": "jMoQVdIk97ol"
      },
      "source": [
        "import tensorflow as tf\r\n",
        "import pandas as pd"
      ],
      "execution_count": null,
      "outputs": []
    },
    {
      "cell_type": "code",
      "metadata": {
        "colab": {
          "base_uri": "https://localhost:8080/"
        },
        "id": "hHtwDhO-9-NI",
        "outputId": "2dd72815-687e-41ec-9be2-07203377c311"
      },
      "source": [
        "file_path = 'https://raw.githubusercontent.com/blackdew/tensorflow1/master/csv/boston.csv'\r\n",
        "boston = pd.read_csv(file_path)\r\n",
        "\r\n",
        "독립 = boston[['crim', 'zn', 'indus', 'chas', 'nox', 'rm', 'age', 'dis', 'rad', 'tax',\r\n",
        "       'ptratio', 'b', 'lstat']]\r\n",
        "종속 = boston[['medv']]\r\n",
        "print(독립.shape, 종속.shape)"
      ],
      "execution_count": null,
      "outputs": [
        {
          "output_type": "stream",
          "text": [
            "(506, 13) (506, 1)\n"
          ],
          "name": "stdout"
        }
      ]
    },
    {
      "cell_type": "code",
      "metadata": {
        "id": "tarsqVvl-ABe"
      },
      "source": [
        "X = tf.keras.layers.Input(shape=[13])\r\n",
        "H = tf.keras.layers.Dense(10, activation='swish')(X)\r\n",
        "Y = tf.keras.layers.Dense(1)(H)\r\n",
        "model = tf.keras.models.Model(X, Y)\r\n",
        "model.compile(loss='mse')"
      ],
      "execution_count": null,
      "outputs": []
    },
    {
      "cell_type": "code",
      "metadata": {
        "colab": {
          "base_uri": "https://localhost:8080/"
        },
        "id": "yasDggCn-CYL",
        "outputId": "b115f9cf-3840-4403-d69e-a68cfb20e962"
      },
      "source": [
        "model.fit(독립, 종속, epochs=1000, verbose=0)\r\n",
        "model.fit(독립, 종속, epochs=10)"
      ],
      "execution_count": null,
      "outputs": [
        {
          "output_type": "stream",
          "text": [
            "Epoch 1/10\n",
            "16/16 [==============================] - 0s 1ms/step - loss: 25.2420\n",
            "Epoch 2/10\n",
            "16/16 [==============================] - 0s 1ms/step - loss: 25.0435\n",
            "Epoch 3/10\n",
            "16/16 [==============================] - 0s 940us/step - loss: 25.4973\n",
            "Epoch 4/10\n",
            "16/16 [==============================] - 0s 1ms/step - loss: 25.2225\n",
            "Epoch 5/10\n",
            "16/16 [==============================] - 0s 896us/step - loss: 26.0248\n",
            "Epoch 6/10\n",
            "16/16 [==============================] - 0s 900us/step - loss: 24.4250\n",
            "Epoch 7/10\n",
            "16/16 [==============================] - 0s 1ms/step - loss: 24.9075\n",
            "Epoch 8/10\n",
            "16/16 [==============================] - 0s 990us/step - loss: 25.3027\n",
            "Epoch 9/10\n",
            "16/16 [==============================] - 0s 983us/step - loss: 25.1129\n",
            "Epoch 10/10\n",
            "16/16 [==============================] - 0s 971us/step - loss: 25.8663\n"
          ],
          "name": "stdout"
        },
        {
          "output_type": "execute_result",
          "data": {
            "text/plain": [
              "<tensorflow.python.keras.callbacks.History at 0x7f221b28af60>"
            ]
          },
          "metadata": {
            "tags": []
          },
          "execution_count": 4
        }
      ]
    },
    {
      "cell_type": "code",
      "metadata": {
        "colab": {
          "base_uri": "https://localhost:8080/"
        },
        "id": "9j5wQiRc-EBY",
        "outputId": "3b77ba40-62a5-4198-976a-b1a2b992058d"
      },
      "source": [
        "# 멀티 레이어 학습에 대한 확인\r\n",
        "# 오른쪽 Param = 가중치\r\n",
        "# 13 + 항 1개 = 14 *10 = 140, 10 + 항 1개 = 11 * 1 = 11\r\n",
        "model.summary()"
      ],
      "execution_count": null,
      "outputs": [
        {
          "output_type": "stream",
          "text": [
            "Model: \"model\"\n",
            "_________________________________________________________________\n",
            "Layer (type)                 Output Shape              Param #   \n",
            "=================================================================\n",
            "input_1 (InputLayer)         [(None, 13)]              0         \n",
            "_________________________________________________________________\n",
            "dense (Dense)                (None, 10)                140       \n",
            "_________________________________________________________________\n",
            "dense_1 (Dense)              (None, 1)                 11        \n",
            "=================================================================\n",
            "Total params: 151\n",
            "Trainable params: 151\n",
            "Non-trainable params: 0\n",
            "_________________________________________________________________\n"
          ],
          "name": "stdout"
        }
      ]
    },
    {
      "cell_type": "code",
      "metadata": {
        "colab": {
          "base_uri": "https://localhost:8080/"
        },
        "id": "uKRdcF2--Frj",
        "outputId": "3c02c7c9-9bef-48b3-9efb-e151e31c4eb7"
      },
      "source": [
        "print(model.predict(독립[:5]))\r\n",
        "print(종속[:5])"
      ],
      "execution_count": null,
      "outputs": [
        {
          "output_type": "stream",
          "text": [
            "[[28.976143]\n",
            " [23.353222]\n",
            " [28.8124  ]\n",
            " [28.226242]\n",
            " [27.301033]]\n",
            "   medv\n",
            "0  24.0\n",
            "1  21.6\n",
            "2  34.7\n",
            "3  33.4\n",
            "4  36.2\n"
          ],
          "name": "stdout"
        }
      ]
    },
    {
      "cell_type": "markdown",
      "metadata": {
        "id": "Gsg_1s1L-H3p"
      },
      "source": [
        "**Iris**"
      ]
    },
    {
      "cell_type": "code",
      "metadata": {
        "colab": {
          "base_uri": "https://localhost:8080/"
        },
        "id": "F0PlL-mj-Jsl",
        "outputId": "534d40fd-8755-44f8-a3f0-f707fb54e56a"
      },
      "source": [
        "file_path = 'https://raw.githubusercontent.com/blackdew/tensorflow1/master/csv/iris.csv'\r\n",
        "iris = pd.read_csv(file_path)\r\n",
        "\r\n",
        "iris = pd.get_dummies(iris)\r\n",
        "\r\n",
        "독립 = iris[['꽃잎길이', '꽃잎폭', '꽃받침길이', '꽃받침폭']]\r\n",
        "종속 = iris[['품종_setosa', '품종_versicolor','품종_virginica']]\r\n",
        "print(독립.shape, 종속.shape)"
      ],
      "execution_count": null,
      "outputs": [
        {
          "output_type": "stream",
          "text": [
            "(150, 4) (150, 3)\n"
          ],
          "name": "stdout"
        }
      ]
    },
    {
      "cell_type": "code",
      "metadata": {
        "id": "h6ZdkWE3-LKo"
      },
      "source": [
        "X = tf.keras.layers.Input(shape=[4])\r\n",
        "H = tf.keras.layers.Dense(8, activation='swish')(X)\r\n",
        "H = tf.keras.layers.Dense(8, activation='swish')(H)\r\n",
        "H = tf.keras.layers.Dense(8, activation='swish')(H)\r\n",
        "Y = tf.keras.layers.Dense(3, activation='softmax')(H)\r\n",
        "model = tf.keras.models.Model(X,Y)\r\n",
        "model.compile(loss='categorical_crossentropy', metrics='accuracy')"
      ],
      "execution_count": null,
      "outputs": []
    },
    {
      "cell_type": "code",
      "metadata": {
        "colab": {
          "base_uri": "https://localhost:8080/"
        },
        "id": "0V4Nby_E-Md7",
        "outputId": "9869cb3b-383f-4560-b202-5dbf67a8ca83"
      },
      "source": [
        "model.fit(독립, 종속, epochs=10)"
      ],
      "execution_count": null,
      "outputs": [
        {
          "output_type": "stream",
          "text": [
            "Epoch 1/10\n",
            "5/5 [==============================] - 0s 2ms/step - loss: 0.0443 - accuracy: 0.9867\n",
            "Epoch 2/10\n",
            "5/5 [==============================] - 0s 2ms/step - loss: 0.0498 - accuracy: 0.9800\n",
            "Epoch 3/10\n",
            "5/5 [==============================] - 0s 2ms/step - loss: 0.0450 - accuracy: 0.9867\n",
            "Epoch 4/10\n",
            "5/5 [==============================] - 0s 1ms/step - loss: 0.0443 - accuracy: 0.9800\n",
            "Epoch 5/10\n",
            "5/5 [==============================] - 0s 2ms/step - loss: 0.0451 - accuracy: 0.9867\n",
            "Epoch 6/10\n",
            "5/5 [==============================] - 0s 2ms/step - loss: 0.0470 - accuracy: 0.9800\n",
            "Epoch 7/10\n",
            "5/5 [==============================] - 0s 2ms/step - loss: 0.0486 - accuracy: 0.9667\n",
            "Epoch 8/10\n",
            "5/5 [==============================] - 0s 2ms/step - loss: 0.0461 - accuracy: 0.9800\n",
            "Epoch 9/10\n",
            "5/5 [==============================] - 0s 2ms/step - loss: 0.0509 - accuracy: 0.9800\n",
            "Epoch 10/10\n",
            "5/5 [==============================] - 0s 2ms/step - loss: 0.0453 - accuracy: 0.9800\n"
          ],
          "name": "stdout"
        },
        {
          "output_type": "execute_result",
          "data": {
            "text/plain": [
              "<tensorflow.python.keras.callbacks.History at 0x7f221a09c240>"
            ]
          },
          "metadata": {
            "tags": []
          },
          "execution_count": 11
        }
      ]
    },
    {
      "cell_type": "code",
      "metadata": {
        "colab": {
          "base_uri": "https://localhost:8080/"
        },
        "id": "Ywvk5q6t-N-g",
        "outputId": "ac404b76-f3f3-4c18-da48-d64e7184fd0e"
      },
      "source": [
        "print(model.predict(독립[0:5]))\r\n",
        "print(종속[0:5])"
      ],
      "execution_count": null,
      "outputs": [
        {
          "output_type": "stream",
          "text": [
            "[[1.00000000e+00 4.56228631e-12 5.94656235e-09]\n",
            " [1.00000000e+00 1.00444514e-10 4.56832971e-08]\n",
            " [1.00000000e+00 2.87389453e-11 2.23526371e-08]\n",
            " [9.99999881e-01 4.59633637e-10 1.31847912e-07]\n",
            " [1.00000000e+00 4.13207185e-12 5.78304116e-09]]\n",
            "   품종_setosa  품종_versicolor  품종_virginica\n",
            "0          1              0             0\n",
            "1          1              0             0\n",
            "2          1              0             0\n",
            "3          1              0             0\n",
            "4          1              0             0\n"
          ],
          "name": "stdout"
        }
      ]
    }
  ]
}