{
  "nbformat": 4,
  "nbformat_minor": 0,
  "metadata": {
    "colab": {
      "name": "Deep Learning1.ipynb",
      "provenance": [],
      "collapsed_sections": []
    },
    "kernelspec": {
      "name": "python3",
      "display_name": "Python 3"
    }
  },
  "cells": [
    {
      "cell_type": "markdown",
      "metadata": {
        "id": "cjl7_UmfzrKB"
      },
      "source": [
        "# 1. 레모네이드 판매 예측 모델\r\n",
        "\r\n",
        "\r\n",
        "* 레모네이드 : https://raw.githubusercontent.com/blackdew/tensorflow1/master/csv/lemonade.csv\r\n",
        "\r\n"
      ]
    },
    {
      "cell_type": "code",
      "metadata": {
        "id": "UEAj-FXfNnM0",
        "colab": {
          "base_uri": "https://localhost:8080/"
        },
        "outputId": "5dd7b02d-48af-4737-f8e2-1011778a33bc"
      },
      "source": [
        "!git clone https://github.com/dlwltn98/tensorflow_study.git"
      ],
      "execution_count": null,
      "outputs": [
        {
          "output_type": "stream",
          "text": [
            "Cloning into 'tensorflow_study'...\n",
            "warning: You appear to have cloned an empty repository.\n"
          ],
          "name": "stdout"
        }
      ]
    },
    {
      "cell_type": "code",
      "metadata": {
        "id": "qbnJTaS4z0V2"
      },
      "source": [
        "# 라이브러리 사용\r\n",
        "import tensorflow as tf\r\n",
        "import pandas as pd"
      ],
      "execution_count": null,
      "outputs": []
    },
    {
      "cell_type": "code",
      "metadata": {
        "colab": {
          "base_uri": "https://localhost:8080/",
          "height": 195
        },
        "id": "RN3GoTPg0INq",
        "outputId": "4c92a8b6-e344-4bdc-aced-39889843b036"
      },
      "source": [
        "# 데이터 준비\r\n",
        "file_path = 'https://raw.githubusercontent.com/blackdew/tensorflow1/master/csv/lemonade.csv'\r\n",
        "data = pd.read_csv(file_path)\r\n",
        "data.head()"
      ],
      "execution_count": null,
      "outputs": [
        {
          "output_type": "execute_result",
          "data": {
            "text/html": [
              "<div>\n",
              "<style scoped>\n",
              "    .dataframe tbody tr th:only-of-type {\n",
              "        vertical-align: middle;\n",
              "    }\n",
              "\n",
              "    .dataframe tbody tr th {\n",
              "        vertical-align: top;\n",
              "    }\n",
              "\n",
              "    .dataframe thead th {\n",
              "        text-align: right;\n",
              "    }\n",
              "</style>\n",
              "<table border=\"1\" class=\"dataframe\">\n",
              "  <thead>\n",
              "    <tr style=\"text-align: right;\">\n",
              "      <th></th>\n",
              "      <th>온도</th>\n",
              "      <th>판매량</th>\n",
              "    </tr>\n",
              "  </thead>\n",
              "  <tbody>\n",
              "    <tr>\n",
              "      <th>0</th>\n",
              "      <td>20</td>\n",
              "      <td>40</td>\n",
              "    </tr>\n",
              "    <tr>\n",
              "      <th>1</th>\n",
              "      <td>21</td>\n",
              "      <td>42</td>\n",
              "    </tr>\n",
              "    <tr>\n",
              "      <th>2</th>\n",
              "      <td>22</td>\n",
              "      <td>44</td>\n",
              "    </tr>\n",
              "    <tr>\n",
              "      <th>3</th>\n",
              "      <td>23</td>\n",
              "      <td>46</td>\n",
              "    </tr>\n",
              "    <tr>\n",
              "      <th>4</th>\n",
              "      <td>24</td>\n",
              "      <td>48</td>\n",
              "    </tr>\n",
              "  </tbody>\n",
              "</table>\n",
              "</div>"
            ],
            "text/plain": [
              "   온도  판매량\n",
              "0  20   40\n",
              "1  21   42\n",
              "2  22   44\n",
              "3  23   46\n",
              "4  24   48"
            ]
          },
          "metadata": {
            "tags": []
          },
          "execution_count": 2
        }
      ]
    },
    {
      "cell_type": "code",
      "metadata": {
        "colab": {
          "base_uri": "https://localhost:8080/"
        },
        "id": "0mcmOfoB0h-_",
        "outputId": "103e77ac-8e4c-47d2-c508-821d81426295"
      },
      "source": [
        "# 종속 변수와 독립 변수로 구분\r\n",
        "독립 = data[['온도']]\r\n",
        "종속 = data[['판매량']]\r\n",
        "print(독립.shape, 종속.shape)"
      ],
      "execution_count": null,
      "outputs": [
        {
          "output_type": "stream",
          "text": [
            "(6, 1) (6, 1)\n"
          ],
          "name": "stdout"
        }
      ]
    },
    {
      "cell_type": "code",
      "metadata": {
        "id": "OYXTDz0D06Eg"
      },
      "source": [
        "# 모델을 만든다.\r\n",
        "X = tf.keras.layers.Input(shape=[1])\r\n",
        "Y = tf.keras.layers.Dense(1)(X)\r\n",
        "model = tf.keras.models.Model(X,Y)\r\n",
        "model.compile(loss='mse')"
      ],
      "execution_count": null,
      "outputs": []
    },
    {
      "cell_type": "code",
      "metadata": {
        "colab": {
          "base_uri": "https://localhost:8080/"
        },
        "id": "eSL8FANU1YxN",
        "outputId": "83cf060f-ef46-4cab-8707-3dff9c090a98"
      },
      "source": [
        "# 모델 학습\r\n",
        "model.fit(독립, 종속, epochs=10)"
      ],
      "execution_count": null,
      "outputs": [
        {
          "output_type": "stream",
          "text": [
            "Epoch 1/10\n",
            "1/1 [==============================] - 0s 4ms/step - loss: 1.2456\n",
            "Epoch 2/10\n",
            "1/1 [==============================] - 0s 5ms/step - loss: 1.2014\n",
            "Epoch 3/10\n",
            "1/1 [==============================] - 0s 6ms/step - loss: 1.1582\n",
            "Epoch 4/10\n",
            "1/1 [==============================] - 0s 4ms/step - loss: 1.1159\n",
            "Epoch 5/10\n",
            "1/1 [==============================] - 0s 5ms/step - loss: 1.0745\n",
            "Epoch 6/10\n",
            "1/1 [==============================] - 0s 4ms/step - loss: 1.0340\n",
            "Epoch 7/10\n",
            "1/1 [==============================] - 0s 5ms/step - loss: 0.9944\n",
            "Epoch 8/10\n",
            "1/1 [==============================] - 0s 4ms/step - loss: 0.9557\n",
            "Epoch 9/10\n",
            "1/1 [==============================] - 0s 4ms/step - loss: 0.9179\n",
            "Epoch 10/10\n",
            "1/1 [==============================] - 0s 4ms/step - loss: 0.8810\n"
          ],
          "name": "stdout"
        },
        {
          "output_type": "execute_result",
          "data": {
            "text/plain": [
              "<tensorflow.python.keras.callbacks.History at 0x7fac9d879208>"
            ]
          },
          "metadata": {
            "tags": []
          },
          "execution_count": 7
        }
      ]
    },
    {
      "cell_type": "code",
      "metadata": {
        "colab": {
          "base_uri": "https://localhost:8080/"
        },
        "id": "2A0mx58j2U7y",
        "outputId": "804ac1b7-41db-4761-8ce8-bbd8c7770b77"
      },
      "source": [
        "# 모델 이용\r\n",
        "model.predict(독립)"
      ],
      "execution_count": null,
      "outputs": [
        {
          "output_type": "execute_result",
          "data": {
            "text/plain": [
              "array([[39.304295],\n",
              "       [41.219486],\n",
              "       [43.134674],\n",
              "       [45.049862],\n",
              "       [46.965054],\n",
              "       [48.880245]], dtype=float32)"
            ]
          },
          "metadata": {
            "tags": []
          },
          "execution_count": 8
        }
      ]
    },
    {
      "cell_type": "code",
      "metadata": {
        "colab": {
          "base_uri": "https://localhost:8080/",
          "height": 225
        },
        "id": "KBXr7bZx2cj2",
        "outputId": "38e013d6-9920-483d-9895-0a5a9e0a387d"
      },
      "source": [
        "종속"
      ],
      "execution_count": null,
      "outputs": [
        {
          "output_type": "execute_result",
          "data": {
            "text/html": [
              "<div>\n",
              "<style scoped>\n",
              "    .dataframe tbody tr th:only-of-type {\n",
              "        vertical-align: middle;\n",
              "    }\n",
              "\n",
              "    .dataframe tbody tr th {\n",
              "        vertical-align: top;\n",
              "    }\n",
              "\n",
              "    .dataframe thead th {\n",
              "        text-align: right;\n",
              "    }\n",
              "</style>\n",
              "<table border=\"1\" class=\"dataframe\">\n",
              "  <thead>\n",
              "    <tr style=\"text-align: right;\">\n",
              "      <th></th>\n",
              "      <th>판매량</th>\n",
              "    </tr>\n",
              "  </thead>\n",
              "  <tbody>\n",
              "    <tr>\n",
              "      <th>0</th>\n",
              "      <td>40</td>\n",
              "    </tr>\n",
              "    <tr>\n",
              "      <th>1</th>\n",
              "      <td>42</td>\n",
              "    </tr>\n",
              "    <tr>\n",
              "      <th>2</th>\n",
              "      <td>44</td>\n",
              "    </tr>\n",
              "    <tr>\n",
              "      <th>3</th>\n",
              "      <td>46</td>\n",
              "    </tr>\n",
              "    <tr>\n",
              "      <th>4</th>\n",
              "      <td>48</td>\n",
              "    </tr>\n",
              "    <tr>\n",
              "      <th>5</th>\n",
              "      <td>50</td>\n",
              "    </tr>\n",
              "  </tbody>\n",
              "</table>\n",
              "</div>"
            ],
            "text/plain": [
              "   판매량\n",
              "0   40\n",
              "1   42\n",
              "2   44\n",
              "3   46\n",
              "4   48\n",
              "5   50"
            ]
          },
          "metadata": {
            "tags": []
          },
          "execution_count": 9
        }
      ]
    },
    {
      "cell_type": "code",
      "metadata": {
        "colab": {
          "base_uri": "https://localhost:8080/"
        },
        "id": "YfEn7hYo2j6k",
        "outputId": "950c59e1-9303-44a0-d069-221ad8642f3b"
      },
      "source": [
        "# 내일 15도 라면 몇개의 레모네이드가 팔릴것인가\r\n",
        "model.predict([[15]])"
      ],
      "execution_count": null,
      "outputs": [
        {
          "output_type": "execute_result",
          "data": {
            "text/plain": [
              "array([[29.728346]], dtype=float32)"
            ]
          },
          "metadata": {
            "tags": []
          },
          "execution_count": 10
        }
      ]
    }
  ]
}