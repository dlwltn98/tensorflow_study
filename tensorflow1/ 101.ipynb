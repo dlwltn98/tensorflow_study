{
  "nbformat": 4,
  "nbformat_minor": 0,
  "metadata": {
    "colab": {
      "name": "101",
      "provenance": [],
      "authorship_tag": "ABX9TyOtQ7lshDFzrj54QaQNZ4+i",
      "include_colab_link": true
    },
    "kernelspec": {
      "name": "python3",
      "display_name": "Python 3"
    }
  },
  "cells": [
    {
      "cell_type": "markdown",
      "metadata": {
        "id": "view-in-github",
        "colab_type": "text"
      },
      "source": [
        "<a href=\"https://colab.research.google.com/github/dlwltn98/tensorflow_study/blob/master/tensorflow1/%20101.ipynb\" target=\"_parent\"><img src=\"https://colab.research.google.com/assets/colab-badge.svg\" alt=\"Open In Colab\"/></a>"
      ]
    },
    {
      "cell_type": "markdown",
      "metadata": {
        "id": "U-1VKADjk9bg"
      },
      "source": [
        "# 데이터 타입 조정\r\n",
        "  아이리스 : https://raw.githubusercontent.com/blackdew/tensorflow1/master/csv/iris2.csv\r\n",
        "\r\n",
        "    * 변수(칼럼) 타입 확인 : 데이터.dtypes\r\n",
        "    * 변수를 범주형으로 변경 :\r\n",
        "          - 테이터['칼럼명'].astype('category')\r\n",
        "    * 변수를 수치형으로 변경 :\r\n",
        "          - 데이터['칼럼명'].astype('int')\r\n",
        "          - 데이터['칼럼명'].astype('float')\r\n",
        "    * NA 값의 처리\r\n",
        "          - NA 갯수 체크 : 데이터.isna().sum()\r\n",
        "          - NA 값 채우기 : 데이터['칼럼명'].fillna(특정숫자)"
      ]
    },
    {
      "cell_type": "code",
      "metadata": {
        "id": "rOKP18W1l-WR"
      },
      "source": [
        "import pandas as pd"
      ],
      "execution_count": null,
      "outputs": []
    },
    {
      "cell_type": "code",
      "metadata": {
        "colab": {
          "base_uri": "https://localhost:8080/",
          "height": 195
        },
        "id": "5WOyquqimKpi",
        "outputId": "f7516bc1-1f91-4b68-e557-cdf5c1773d0d"
      },
      "source": [
        "file_path = 'https://raw.githubusercontent.com/blackdew/tensorflow1/master/csv/iris2.csv'\r\n",
        "iris = pd.read_csv(file_path)\r\n",
        "iris.head()\r\n",
        "\r\n",
        "# 품종이 setosa = 0, virginica = 1, versicolor = 2"
      ],
      "execution_count": null,
      "outputs": [
        {
          "output_type": "execute_result",
          "data": {
            "text/html": [
              "<div>\n",
              "<style scoped>\n",
              "    .dataframe tbody tr th:only-of-type {\n",
              "        vertical-align: middle;\n",
              "    }\n",
              "\n",
              "    .dataframe tbody tr th {\n",
              "        vertical-align: top;\n",
              "    }\n",
              "\n",
              "    .dataframe thead th {\n",
              "        text-align: right;\n",
              "    }\n",
              "</style>\n",
              "<table border=\"1\" class=\"dataframe\">\n",
              "  <thead>\n",
              "    <tr style=\"text-align: right;\">\n",
              "      <th></th>\n",
              "      <th>꽃잎길이</th>\n",
              "      <th>꽃잎폭</th>\n",
              "      <th>꽃받침길이</th>\n",
              "      <th>꽃받침폭</th>\n",
              "      <th>품종</th>\n",
              "    </tr>\n",
              "  </thead>\n",
              "  <tbody>\n",
              "    <tr>\n",
              "      <th>0</th>\n",
              "      <td>5.1</td>\n",
              "      <td>3.5</td>\n",
              "      <td>1.4</td>\n",
              "      <td>0.2</td>\n",
              "      <td>0</td>\n",
              "    </tr>\n",
              "    <tr>\n",
              "      <th>1</th>\n",
              "      <td>4.9</td>\n",
              "      <td>3.0</td>\n",
              "      <td>1.4</td>\n",
              "      <td>0.2</td>\n",
              "      <td>0</td>\n",
              "    </tr>\n",
              "    <tr>\n",
              "      <th>2</th>\n",
              "      <td>4.7</td>\n",
              "      <td>3.2</td>\n",
              "      <td>1.3</td>\n",
              "      <td>0.2</td>\n",
              "      <td>0</td>\n",
              "    </tr>\n",
              "    <tr>\n",
              "      <th>3</th>\n",
              "      <td>4.6</td>\n",
              "      <td>3.1</td>\n",
              "      <td>1.5</td>\n",
              "      <td>0.2</td>\n",
              "      <td>0</td>\n",
              "    </tr>\n",
              "    <tr>\n",
              "      <th>4</th>\n",
              "      <td>5.0</td>\n",
              "      <td>3.6</td>\n",
              "      <td>1.4</td>\n",
              "      <td>0.2</td>\n",
              "      <td>0</td>\n",
              "    </tr>\n",
              "  </tbody>\n",
              "</table>\n",
              "</div>"
            ],
            "text/plain": [
              "   꽃잎길이  꽃잎폭  꽃받침길이  꽃받침폭  품종\n",
              "0   5.1  3.5    1.4   0.2   0\n",
              "1   4.9  3.0    1.4   0.2   0\n",
              "2   4.7  3.2    1.3   0.2   0\n",
              "3   4.6  3.1    1.5   0.2   0\n",
              "4   5.0  3.6    1.4   0.2   0"
            ]
          },
          "metadata": {
            "tags": []
          },
          "execution_count": 2
        }
      ]
    },
    {
      "cell_type": "code",
      "metadata": {
        "colab": {
          "base_uri": "https://localhost:8080/",
          "height": 195
        },
        "id": "pz3ihUFGmU0F",
        "outputId": "28edd17a-96f1-41d9-bd7c-2e468ec5c881"
      },
      "source": [
        "encoding = pd.get_dummies(iris)\r\n",
        "encoding.head()\r\n",
        "\r\n",
        "# 판다스는 데이터를 읽을때 안에 데이터가 숫자로 되어 있으면 숫자로 인식함\r\n",
        "# 그래서 품종을 범주형 칼럼이라고 인지하지 못함\r\n",
        "# 원핫인코딩은 type이 category 또는 Object 일때만 원핫인코딩을 함"
      ],
      "execution_count": null,
      "outputs": [
        {
          "output_type": "execute_result",
          "data": {
            "text/html": [
              "<div>\n",
              "<style scoped>\n",
              "    .dataframe tbody tr th:only-of-type {\n",
              "        vertical-align: middle;\n",
              "    }\n",
              "\n",
              "    .dataframe tbody tr th {\n",
              "        vertical-align: top;\n",
              "    }\n",
              "\n",
              "    .dataframe thead th {\n",
              "        text-align: right;\n",
              "    }\n",
              "</style>\n",
              "<table border=\"1\" class=\"dataframe\">\n",
              "  <thead>\n",
              "    <tr style=\"text-align: right;\">\n",
              "      <th></th>\n",
              "      <th>꽃잎길이</th>\n",
              "      <th>꽃잎폭</th>\n",
              "      <th>꽃받침길이</th>\n",
              "      <th>꽃받침폭</th>\n",
              "      <th>품종</th>\n",
              "    </tr>\n",
              "  </thead>\n",
              "  <tbody>\n",
              "    <tr>\n",
              "      <th>0</th>\n",
              "      <td>5.1</td>\n",
              "      <td>3.5</td>\n",
              "      <td>1.4</td>\n",
              "      <td>0.2</td>\n",
              "      <td>0</td>\n",
              "    </tr>\n",
              "    <tr>\n",
              "      <th>1</th>\n",
              "      <td>4.9</td>\n",
              "      <td>3.0</td>\n",
              "      <td>1.4</td>\n",
              "      <td>0.2</td>\n",
              "      <td>0</td>\n",
              "    </tr>\n",
              "    <tr>\n",
              "      <th>2</th>\n",
              "      <td>4.7</td>\n",
              "      <td>3.2</td>\n",
              "      <td>1.3</td>\n",
              "      <td>0.2</td>\n",
              "      <td>0</td>\n",
              "    </tr>\n",
              "    <tr>\n",
              "      <th>3</th>\n",
              "      <td>4.6</td>\n",
              "      <td>3.1</td>\n",
              "      <td>1.5</td>\n",
              "      <td>0.2</td>\n",
              "      <td>0</td>\n",
              "    </tr>\n",
              "    <tr>\n",
              "      <th>4</th>\n",
              "      <td>5.0</td>\n",
              "      <td>3.6</td>\n",
              "      <td>1.4</td>\n",
              "      <td>0.2</td>\n",
              "      <td>0</td>\n",
              "    </tr>\n",
              "  </tbody>\n",
              "</table>\n",
              "</div>"
            ],
            "text/plain": [
              "   꽃잎길이  꽃잎폭  꽃받침길이  꽃받침폭  품종\n",
              "0   5.1  3.5    1.4   0.2   0\n",
              "1   4.9  3.0    1.4   0.2   0\n",
              "2   4.7  3.2    1.3   0.2   0\n",
              "3   4.6  3.1    1.5   0.2   0\n",
              "4   5.0  3.6    1.4   0.2   0"
            ]
          },
          "metadata": {
            "tags": []
          },
          "execution_count": 3
        }
      ]
    },
    {
      "cell_type": "code",
      "metadata": {
        "colab": {
          "base_uri": "https://localhost:8080/"
        },
        "id": "LA7js7jFnI2l",
        "outputId": "b6db1190-0a59-428a-95f3-e528af3eb783"
      },
      "source": [
        "# 아이리스의 데이터 타입이 어떻게 되어 있나 체크하는 과정이 필요\r\n",
        "print(iris.dtypes)"
      ],
      "execution_count": null,
      "outputs": [
        {
          "output_type": "stream",
          "text": [
            "꽃잎길이     float64\n",
            "꽃잎폭      float64\n",
            "꽃받침길이    float64\n",
            "꽃받침폭     float64\n",
            "품종         int64\n",
            "dtype: object\n"
          ],
          "name": "stdout"
        }
      ]
    },
    {
      "cell_type": "code",
      "metadata": {
        "colab": {
          "base_uri": "https://localhost:8080/"
        },
        "id": "RZKoHLF9nrV8",
        "outputId": "c1c0d66e-c8c2-4be4-8a01-c118a9f1ff51"
      },
      "source": [
        "# 품종 타입을 범주형으로 바꾸어준다.\r\n",
        "iris['품종'] = iris['품종'].astype('category')\r\n",
        "print(iris.dtypes)"
      ],
      "execution_count": null,
      "outputs": [
        {
          "output_type": "stream",
          "text": [
            "꽃잎길이      float64\n",
            "꽃잎폭       float64\n",
            "꽃받침길이     float64\n",
            "꽃받침폭      float64\n",
            "품종       category\n",
            "dtype: object\n"
          ],
          "name": "stdout"
        }
      ]
    },
    {
      "cell_type": "code",
      "metadata": {
        "colab": {
          "base_uri": "https://localhost:8080/",
          "height": 195
        },
        "id": "XHqAP-GboGT5",
        "outputId": "5b0ddbdb-20b0-460c-d837-acaea8932a7d"
      },
      "source": [
        "encoding = pd.get_dummies(iris)\r\n",
        "encoding.head()"
      ],
      "execution_count": null,
      "outputs": [
        {
          "output_type": "execute_result",
          "data": {
            "text/html": [
              "<div>\n",
              "<style scoped>\n",
              "    .dataframe tbody tr th:only-of-type {\n",
              "        vertical-align: middle;\n",
              "    }\n",
              "\n",
              "    .dataframe tbody tr th {\n",
              "        vertical-align: top;\n",
              "    }\n",
              "\n",
              "    .dataframe thead th {\n",
              "        text-align: right;\n",
              "    }\n",
              "</style>\n",
              "<table border=\"1\" class=\"dataframe\">\n",
              "  <thead>\n",
              "    <tr style=\"text-align: right;\">\n",
              "      <th></th>\n",
              "      <th>꽃잎길이</th>\n",
              "      <th>꽃잎폭</th>\n",
              "      <th>꽃받침길이</th>\n",
              "      <th>꽃받침폭</th>\n",
              "      <th>품종_0</th>\n",
              "      <th>품종_1</th>\n",
              "      <th>품종_2</th>\n",
              "    </tr>\n",
              "  </thead>\n",
              "  <tbody>\n",
              "    <tr>\n",
              "      <th>0</th>\n",
              "      <td>5.1</td>\n",
              "      <td>3.5</td>\n",
              "      <td>1.4</td>\n",
              "      <td>0.2</td>\n",
              "      <td>1</td>\n",
              "      <td>0</td>\n",
              "      <td>0</td>\n",
              "    </tr>\n",
              "    <tr>\n",
              "      <th>1</th>\n",
              "      <td>4.9</td>\n",
              "      <td>3.0</td>\n",
              "      <td>1.4</td>\n",
              "      <td>0.2</td>\n",
              "      <td>1</td>\n",
              "      <td>0</td>\n",
              "      <td>0</td>\n",
              "    </tr>\n",
              "    <tr>\n",
              "      <th>2</th>\n",
              "      <td>4.7</td>\n",
              "      <td>3.2</td>\n",
              "      <td>1.3</td>\n",
              "      <td>0.2</td>\n",
              "      <td>1</td>\n",
              "      <td>0</td>\n",
              "      <td>0</td>\n",
              "    </tr>\n",
              "    <tr>\n",
              "      <th>3</th>\n",
              "      <td>4.6</td>\n",
              "      <td>3.1</td>\n",
              "      <td>1.5</td>\n",
              "      <td>0.2</td>\n",
              "      <td>1</td>\n",
              "      <td>0</td>\n",
              "      <td>0</td>\n",
              "    </tr>\n",
              "    <tr>\n",
              "      <th>4</th>\n",
              "      <td>5.0</td>\n",
              "      <td>3.6</td>\n",
              "      <td>1.4</td>\n",
              "      <td>0.2</td>\n",
              "      <td>1</td>\n",
              "      <td>0</td>\n",
              "      <td>0</td>\n",
              "    </tr>\n",
              "  </tbody>\n",
              "</table>\n",
              "</div>"
            ],
            "text/plain": [
              "   꽃잎길이  꽃잎폭  꽃받침길이  꽃받침폭  품종_0  품종_1  품종_2\n",
              "0   5.1  3.5    1.4   0.2     1     0     0\n",
              "1   4.9  3.0    1.4   0.2     1     0     0\n",
              "2   4.7  3.2    1.3   0.2     1     0     0\n",
              "3   4.6  3.1    1.5   0.2     1     0     0\n",
              "4   5.0  3.6    1.4   0.2     1     0     0"
            ]
          },
          "metadata": {
            "tags": []
          },
          "execution_count": 7
        }
      ]
    },
    {
      "cell_type": "code",
      "metadata": {
        "colab": {
          "base_uri": "https://localhost:8080/"
        },
        "id": "sSDsTlCxoVGW",
        "outputId": "0aa94f9b-1a4a-4789-ec04-20beeee8300c"
      },
      "source": [
        "# NA 값 체크\r\n",
        "iris.isna().sum()"
      ],
      "execution_count": null,
      "outputs": [
        {
          "output_type": "execute_result",
          "data": {
            "text/plain": [
              "꽃잎길이     0\n",
              "꽃잎폭      1\n",
              "꽃받침길이    0\n",
              "꽃받침폭     0\n",
              "품종       0\n",
              "dtype: int64"
            ]
          },
          "metadata": {
            "tags": []
          },
          "execution_count": 8
        }
      ]
    },
    {
      "cell_type": "code",
      "metadata": {
        "colab": {
          "base_uri": "https://localhost:8080/",
          "height": 195
        },
        "id": "ZIGwaja2oexl",
        "outputId": "16a5fc27-fa76-4416-96d9-8e1947c422c9"
      },
      "source": [
        "iris.tail()"
      ],
      "execution_count": null,
      "outputs": [
        {
          "output_type": "execute_result",
          "data": {
            "text/html": [
              "<div>\n",
              "<style scoped>\n",
              "    .dataframe tbody tr th:only-of-type {\n",
              "        vertical-align: middle;\n",
              "    }\n",
              "\n",
              "    .dataframe tbody tr th {\n",
              "        vertical-align: top;\n",
              "    }\n",
              "\n",
              "    .dataframe thead th {\n",
              "        text-align: right;\n",
              "    }\n",
              "</style>\n",
              "<table border=\"1\" class=\"dataframe\">\n",
              "  <thead>\n",
              "    <tr style=\"text-align: right;\">\n",
              "      <th></th>\n",
              "      <th>꽃잎길이</th>\n",
              "      <th>꽃잎폭</th>\n",
              "      <th>꽃받침길이</th>\n",
              "      <th>꽃받침폭</th>\n",
              "      <th>품종</th>\n",
              "    </tr>\n",
              "  </thead>\n",
              "  <tbody>\n",
              "    <tr>\n",
              "      <th>145</th>\n",
              "      <td>6.7</td>\n",
              "      <td>3.0</td>\n",
              "      <td>5.2</td>\n",
              "      <td>2.3</td>\n",
              "      <td>2</td>\n",
              "    </tr>\n",
              "    <tr>\n",
              "      <th>146</th>\n",
              "      <td>6.3</td>\n",
              "      <td>2.5</td>\n",
              "      <td>5.0</td>\n",
              "      <td>1.9</td>\n",
              "      <td>2</td>\n",
              "    </tr>\n",
              "    <tr>\n",
              "      <th>147</th>\n",
              "      <td>6.5</td>\n",
              "      <td>3.0</td>\n",
              "      <td>5.2</td>\n",
              "      <td>2.0</td>\n",
              "      <td>2</td>\n",
              "    </tr>\n",
              "    <tr>\n",
              "      <th>148</th>\n",
              "      <td>6.2</td>\n",
              "      <td>3.4</td>\n",
              "      <td>5.4</td>\n",
              "      <td>2.3</td>\n",
              "      <td>2</td>\n",
              "    </tr>\n",
              "    <tr>\n",
              "      <th>149</th>\n",
              "      <td>5.9</td>\n",
              "      <td>NaN</td>\n",
              "      <td>5.1</td>\n",
              "      <td>1.8</td>\n",
              "      <td>2</td>\n",
              "    </tr>\n",
              "  </tbody>\n",
              "</table>\n",
              "</div>"
            ],
            "text/plain": [
              "     꽃잎길이  꽃잎폭  꽃받침길이  꽃받침폭 품종\n",
              "145   6.7  3.0    5.2   2.3  2\n",
              "146   6.3  2.5    5.0   1.9  2\n",
              "147   6.5  3.0    5.2   2.0  2\n",
              "148   6.2  3.4    5.4   2.3  2\n",
              "149   5.9  NaN    5.1   1.8  2"
            ]
          },
          "metadata": {
            "tags": []
          },
          "execution_count": 9
        }
      ]
    },
    {
      "cell_type": "code",
      "metadata": {
        "id": "V2p-bqS6orbP"
      },
      "source": [
        "# NA값에 꽃잎폭 평균값을 넣어주는 방법\r\n",
        "mean = iris['꽃잎폭'].mean()\r\n",
        "iris['꽃잎폭'] = iris['꽃잎폭'].fillna(mean)"
      ],
      "execution_count": null,
      "outputs": []
    },
    {
      "cell_type": "code",
      "metadata": {
        "colab": {
          "base_uri": "https://localhost:8080/",
          "height": 195
        },
        "id": "6hMMmI6BpF9r",
        "outputId": "989c8acf-6808-42f3-ab69-56452f948365"
      },
      "source": [
        "iris.tail()"
      ],
      "execution_count": null,
      "outputs": [
        {
          "output_type": "execute_result",
          "data": {
            "text/html": [
              "<div>\n",
              "<style scoped>\n",
              "    .dataframe tbody tr th:only-of-type {\n",
              "        vertical-align: middle;\n",
              "    }\n",
              "\n",
              "    .dataframe tbody tr th {\n",
              "        vertical-align: top;\n",
              "    }\n",
              "\n",
              "    .dataframe thead th {\n",
              "        text-align: right;\n",
              "    }\n",
              "</style>\n",
              "<table border=\"1\" class=\"dataframe\">\n",
              "  <thead>\n",
              "    <tr style=\"text-align: right;\">\n",
              "      <th></th>\n",
              "      <th>꽃잎길이</th>\n",
              "      <th>꽃잎폭</th>\n",
              "      <th>꽃받침길이</th>\n",
              "      <th>꽃받침폭</th>\n",
              "      <th>품종</th>\n",
              "    </tr>\n",
              "  </thead>\n",
              "  <tbody>\n",
              "    <tr>\n",
              "      <th>145</th>\n",
              "      <td>6.7</td>\n",
              "      <td>3.000000</td>\n",
              "      <td>5.2</td>\n",
              "      <td>2.3</td>\n",
              "      <td>2</td>\n",
              "    </tr>\n",
              "    <tr>\n",
              "      <th>146</th>\n",
              "      <td>6.3</td>\n",
              "      <td>2.500000</td>\n",
              "      <td>5.0</td>\n",
              "      <td>1.9</td>\n",
              "      <td>2</td>\n",
              "    </tr>\n",
              "    <tr>\n",
              "      <th>147</th>\n",
              "      <td>6.5</td>\n",
              "      <td>3.000000</td>\n",
              "      <td>5.2</td>\n",
              "      <td>2.0</td>\n",
              "      <td>2</td>\n",
              "    </tr>\n",
              "    <tr>\n",
              "      <th>148</th>\n",
              "      <td>6.2</td>\n",
              "      <td>3.400000</td>\n",
              "      <td>5.4</td>\n",
              "      <td>2.3</td>\n",
              "      <td>2</td>\n",
              "    </tr>\n",
              "    <tr>\n",
              "      <th>149</th>\n",
              "      <td>5.9</td>\n",
              "      <td>3.054362</td>\n",
              "      <td>5.1</td>\n",
              "      <td>1.8</td>\n",
              "      <td>2</td>\n",
              "    </tr>\n",
              "  </tbody>\n",
              "</table>\n",
              "</div>"
            ],
            "text/plain": [
              "     꽃잎길이       꽃잎폭  꽃받침길이  꽃받침폭 품종\n",
              "145   6.7  3.000000    5.2   2.3  2\n",
              "146   6.3  2.500000    5.0   1.9  2\n",
              "147   6.5  3.000000    5.2   2.0  2\n",
              "148   6.2  3.400000    5.4   2.3  2\n",
              "149   5.9  3.054362    5.1   1.8  2"
            ]
          },
          "metadata": {
            "tags": []
          },
          "execution_count": 12
        }
      ]
    },
    {
      "cell_type": "markdown",
      "metadata": {
        "id": "ET9XsKEzpe25"
      },
      "source": [
        "# 학습이 잘 되는 모델\r\n",
        "    * 사용할 레이어\r\n",
        "        - tf.keras.layers.BatchNormalization()\r\n",
        "        - tf.keras.layers.Activation('swish')\r\n",
        "    * 데이터\r\n",
        "      - 보스턴 :  https://raw.githubusercontent.com/blackdew/tensorflow1/master/csv/boston.csv\r\n",
        "      - 아이리스 :  https://raw.githubusercontent.com/blackdew/tensorflow1/master/csv/iris.csv"
      ]
    },
    {
      "cell_type": "code",
      "metadata": {
        "colab": {
          "base_uri": "https://localhost:8080/"
        },
        "id": "4MhUUoRDqGKF",
        "outputId": "429451c3-e3df-41ea-ba9e-b63d7d707159"
      },
      "source": [
        "import tensorflow as tf\r\n",
        "import pandas as pd\r\n",
        "\r\n",
        "file_path = 'https://raw.githubusercontent.com/blackdew/tensorflow1/master/csv/boston.csv'\r\n",
        "boston = pd.read_csv(file_path)\r\n",
        "\r\n",
        "독립 = boston[['crim', 'zn', 'indus', 'chas', 'nox', 'rm', 'age', 'dis', 'rad', 'tax',\r\n",
        "       'ptratio', 'b', 'lstat']]\r\n",
        "종속 = boston[['medv']]\r\n",
        "print(독립.shape, 종속.shape)"
      ],
      "execution_count": null,
      "outputs": [
        {
          "output_type": "stream",
          "text": [
            "(506, 13) (506, 1)\n"
          ],
          "name": "stdout"
        }
      ]
    },
    {
      "cell_type": "code",
      "metadata": {
        "id": "IrhnjP_Tq6_s"
      },
      "source": [
        "X = tf.keras.layers.Input(shape=[13])\r\n",
        "# H = tf.keras.layers.Dense(8, activation='swish')(X), activation 분리\r\n",
        "H = tf.keras.layers.Dense(8)(X)\r\n",
        "H = tf.keras.layers.BatchNormalization()(H)\r\n",
        "H = tf.keras.layers.Activation('swish')(H)\r\n",
        "\r\n",
        "H = tf.keras.layers.Dense(8)(X)\r\n",
        "H = tf.keras.layers.BatchNormalization()(H)\r\n",
        "H = tf.keras.layers.Activation('swish')(H)\r\n",
        "\r\n",
        "H = tf.keras.layers.Dense(8)(X)\r\n",
        "H = tf.keras.layers.BatchNormalization()(H)\r\n",
        "H = tf.keras.layers.Activation('swish')(H)\r\n",
        "\r\n",
        "Y = tf.keras.layers.Dense(1)(H)\r\n",
        "model = tf.keras.models.Model(X, Y)\r\n",
        "model.compile(loss='mse')\r\n",
        "\r\n",
        "# 동일한 수식이지만 BatchNormalization은 Dense레이어와 activation사이에 적어주는게 효과가 좋다."
      ],
      "execution_count": null,
      "outputs": []
    },
    {
      "cell_type": "code",
      "metadata": {
        "id": "Q7ppJC42rTmp"
      },
      "source": [
        "model.fit(독립, 종속, epochs=900)"
      ],
      "execution_count": null,
      "outputs": []
    },
    {
      "cell_type": "markdown",
      "metadata": {
        "id": "oDvUaKgStj54"
      },
      "source": [
        "**Iris**"
      ]
    },
    {
      "cell_type": "code",
      "metadata": {
        "colab": {
          "base_uri": "https://localhost:8080/"
        },
        "id": "UL5J5ksOtnja",
        "outputId": "60324129-3382-44d5-c6a3-8f32fdffd283"
      },
      "source": [
        "file_path = 'https://raw.githubusercontent.com/blackdew/tensorflow1/master/csv/iris.csv'\r\n",
        "iris = pd.read_csv(file_path)\r\n",
        "\r\n",
        "iris = pd.get_dummies(iris)\r\n",
        "\r\n",
        "독립 = iris[['꽃잎길이', '꽃잎폭', '꽃받침길이', '꽃받침폭']]\r\n",
        "종속 = iris[['품종_setosa', '품종_versicolor','품종_virginica']]\r\n",
        "print(독립.shape, 종속.shape)"
      ],
      "execution_count": null,
      "outputs": [
        {
          "output_type": "stream",
          "text": [
            "(150, 4) (150, 3)\n"
          ],
          "name": "stdout"
        }
      ]
    },
    {
      "cell_type": "code",
      "metadata": {
        "id": "ByqzX2-8t9e3"
      },
      "source": [
        "X = tf.keras.layers.Input(shape=[4])\r\n",
        "\r\n",
        "H = tf.keras.layers.Dense(8)(X)\r\n",
        "H = tf.keras.layers.BatchNormalization() (H)\r\n",
        "H = tf.keras.layers.Activation('swish') (H)\r\n",
        "\r\n",
        "H = tf.keras.layers.Dense(8)(X)\r\n",
        "H = tf.keras.layers.BatchNormalization() (H)\r\n",
        "H = tf.keras.layers.Activation('swish') (H)\r\n",
        "\r\n",
        "H = tf.keras.layers.Dense(8)(X)\r\n",
        "H = tf.keras.layers.BatchNormalization() (H)\r\n",
        "H = tf.keras.layers.Activation('swish') (H)\r\n",
        "\r\n",
        "Y = tf.keras.layers.Dense(3, activation='softmax')(H)\r\n",
        "model = tf.keras.models.Model(X,Y)\r\n",
        "model.compile(loss='categorical_crossentropy', metrics='accuracy')"
      ],
      "execution_count": null,
      "outputs": []
    },
    {
      "cell_type": "code",
      "metadata": {
        "id": "ldl8U6LOuFWh"
      },
      "source": [
        "model.fit(독립, 종속, epochs=1000)"
      ],
      "execution_count": null,
      "outputs": []
    }
  ]
}